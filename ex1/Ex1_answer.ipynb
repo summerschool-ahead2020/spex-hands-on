{
 "cells": [
  {
   "cell_type": "markdown",
   "id": "c146b312-bfec-4385-8e98-b5d7a63f9524",
   "metadata": {},
   "source": [
    "# Exercise 1 Answers"
   ]
  },
  {
   "cell_type": "markdown",
   "id": "875853a1-ec13-439d-b557-671aa23f26ee",
   "metadata": {},
   "source": [
    "First, we load the spextrum into pyspex and plot it."
   ]
  },
  {
   "cell_type": "markdown",
   "id": "d1b73cb5-fd5d-4232-b010-31319f6de5a3",
   "metadata": {},
   "source": [
    "## Loading spectrum and plot"
   ]
  },
  {
   "cell_type": "code",
   "execution_count": 1,
   "id": "54e9ee8d-bc90-4a97-bbaf-cef01f9a9ea3",
   "metadata": {},
   "outputs": [
    {
     "name": "stdout",
     "output_type": "stream",
     "text": [
      " Welcome jellep to SPEX version 3.07.03\n",
      "\n",
      " NEW in this version of SPEX: \n",
      "01-12-2022 Fixed issue with plot cap command\n",
      "05-12-2022 Fixed issue with knak model\n",
      "22-03-2023 Fixed issue with treatment of bad quality bins in trafo\n",
      "23-03-2023 Fixed small issues in the pyspex interface\n",
      "\n",
      " Currently using SPEXACT version 2.07.00. Type `help var calc` for details.\n"
     ]
    }
   ],
   "source": [
    "# Loading the pyspex module\n",
    "from pyspex.spex import Session\n",
    "s=Session()"
   ]
  },
  {
   "cell_type": "code",
   "execution_count": 2,
   "id": "22c98559-3857-41b1-91b6-a378eca54ae7",
   "metadata": {},
   "outputs": [
    {
     "data": {
      "text/plain": [
       "0"
      ]
     },
     "execution_count": 2,
     "metadata": {},
     "output_type": "execute_result"
    }
   ],
   "source": [
    "# Read the data files\n",
    "s.data(\"powerl.res\",\"powerl.spo\")"
   ]
  },
  {
   "cell_type": "code",
   "execution_count": 3,
   "id": "7c818e7d-6bb0-4f38-aa38-fc7bee44fd30",
   "metadata": {},
   "outputs": [
    {
     "data": {
      "image/png": "[encoded data removed]",
      "text/plain": [
       "<Figure size 432x288 with 1 Axes>"
      ]
     },
     "metadata": {
      "needs_background": "light"
     },
     "output_type": "display_data"
    },
    {
     "data": {
      "text/plain": [
       "<pyspex.plot.PlotData at 0x1475cc651c40>"
      ]
     },
     "execution_count": 3,
     "metadata": {},
     "output_type": "execute_result"
    }
   ],
   "source": [
    "# Plot the spectrum\n",
    "s.plot_data(xlog=True, ylog=True)"
   ]
  },
  {
   "cell_type": "markdown",
   "id": "18db49fd-2c3f-4d14-996e-f94d33b00323",
   "metadata": {},
   "source": [
    "## Ignoring parts of the spectrum and binning\n",
    "\n",
    "To fit the spectrum between 0.3 and 10 keV, we need to ignore the parts of the spectrum below 0.3 keV and above 10 keV. This needs two ignore commands:"
   ]
  },
  {
   "cell_type": "code",
   "execution_count": 4,
   "id": "3054c068-57f2-4756-a225-bf664815bf61",
   "metadata": {},
   "outputs": [],
   "source": [
    "s.ignore(1,1,0.0,0.3,'kev')\n",
    "s.ignore(1,1,10.0,1000.,'keV')"
   ]
  },
  {
   "cell_type": "markdown",
   "id": "d7812a85-de41-41b8-97c1-4de295c07f11",
   "metadata": {},
   "source": [
    "The first and second '1' in the ignore command stand for instrument #1 and region #1, which tells SPEX which spectrum you want to apply your commands to in case you load multiple spectra. A .res and .spo file can contain multiple spectra. Spectra within .res and .spo files are called regions. Spectra from different .res and .spo files will get a different instrument number."
   ]
  },
  {
   "cell_type": "code",
   "execution_count": 5,
   "id": "5eff7b76-f0b1-4429-b3dd-3f2a3e9f990f",
   "metadata": {},
   "outputs": [],
   "source": [
    "# The remaining part of the spectrum can be binned by the obin command:\n",
    "s.obin(1,1,0.3,10.,'kev')"
   ]
  },
  {
   "cell_type": "markdown",
   "id": "4f6b142a-a440-4999-8ffe-91057a3239d9",
   "metadata": {},
   "source": [
    "## Set up the model and distance"
   ]
  },
  {
   "cell_type": "code",
   "execution_count": 6,
   "id": "adda642f-c421-450e-833c-18cc396a252d",
   "metadata": {},
   "outputs": [
    {
     "name": "stdout",
     "output_type": "stream",
     "text": [
      " You have defined    1 component.\n",
      " You have defined    2 components.\n"
     ]
    },
    {
     "data": {
      "text/plain": [
       "<pyspex.model.Distance at 0x1475cc646970>"
      ]
     },
     "execution_count": 6,
     "metadata": {},
     "output_type": "execute_result"
    },
    {
     "name": "stdout",
     "output_type": "stream",
     "text": [
      " Distances assuming H0 =  70.0 km/s/Mpc, Omega_m = 0.300 Omega_Lambda = 0.700 Omega_r = 0.000\n",
      "Sector       m      A.U.        ly        pc       kpc       Mpc  redshift        cz   age(yr)\n",
      "----------------------------------------------------------------------------------------------\n",
      "   1 1.851E+20 1.238E+09 1.957E+04 6000.0000    6.0000 6.000E-03    0.0000       0.4 1.957E+04\n",
      "----------------------------------------------------------------------------------------------\n",
      "\n"
     ]
    }
   ],
   "source": [
    "import numpy\n",
    "s.com('absm')\n",
    "s.com('pow')\n",
    "s.com_rel(1,2,numpy.array([1]))\n",
    "s.dist(1,6,'kpc')"
   ]
  },
  {
   "cell_type": "markdown",
   "id": "dd2cb9bb-73d1-4ab8-acd0-ecd6dfeebe48",
   "metadata": {},
   "source": [
    "## Fit the model\n",
    "\n",
    "Before you fit the model with the `s.fit()` command, check whether the parameters of your model are reasonable compared to your spectrum:"
   ]
  },
  {
   "cell_type": "code",
   "execution_count": 7,
   "id": "ef7bf3d6-aa41-4252-844f-158ddc829a41",
   "metadata": {},
   "outputs": [
    {
     "data": {
      "image/png": "[encoded data removed]",
      "text/plain": [
       "<Figure size 432x288 with 1 Axes>"
      ]
     },
     "metadata": {
      "needs_background": "light"
     },
     "output_type": "display_data"
    },
    {
     "data": {
      "text/plain": [
       "<pyspex.plot.PlotData at 0x14752a329250>"
      ]
     },
     "execution_count": 7,
     "metadata": {},
     "output_type": "execute_result"
    }
   ],
   "source": [
    "s.calc()\n",
    "s.plot_data(xlog=True,ylog=True)"
   ]
  },
  {
   "cell_type": "code",
   "execution_count": 8,
   "id": "2c2d271f-3186-4fed-9581-390e79c2a361",
   "metadata": {},
   "outputs": [
    {
     "name": "stdout",
     "output_type": "stream",
     "text": [
      " fit iter  100                                                   \n",
      "  1.046643E+06          4  1.000E-04   1.00       2.00\n",
      " You cannot plot this frame since nothing is defined\n",
      " \u0007\n",
      "   289755.              9  5.996E-04  0.602       1.99\n",
      " You cannot plot this frame since nothing is defined\n",
      " \u0007\n",
      "   60246.8             13  9.329E-04  0.114       1.79\n",
      " You cannot plot this frame since nothing is defined\n",
      " \u0007\n",
      "   4113.83             17  1.467E-03  0.212       1.76\n",
      " You cannot plot this frame since nothing is defined\n",
      " \u0007\n",
      "   130.572             21  1.414E-03  0.246       1.77\n",
      " You cannot plot this frame since nothing is defined\n",
      " \u0007\n",
      "   122.419             25  1.418E-03  0.248       1.77\n",
      " You cannot plot this frame since nothing is defined\n",
      " \u0007\n",
      "--------------------------------------------------------------------------------------------------\n",
      "sect comp mod  acro parameter with unit     value      status    minimum   maximum lsec lcom lpar\n",
      "\n",
      "   1    1 absm nh   Column (1E28/m**2)   1.4176896E-03 thawn     0.0      1.00E+20\n",
      "   1    1 absm fcov Covering fraction     1.000000     frozen    0.0       1.0\n",
      "\n",
      "   1    2 pow  norm Norm (1E44 ph/s/keV) 0.2480518     thawn     0.0      1.00E+20\n",
      "   1    2 pow  gamm Photon index          1.773895     thawn    -10.       10.\n",
      "   1    2 pow  dgam Photon index break    0.000000     frozen   -10.       10.\n",
      "   1    2 pow  e0   Break energy (keV)   1.0000000E+10 frozen    0.0      1.00E+20\n",
      "   1    2 pow  b    Break strength        0.000000     frozen    0.0       10.\n",
      "   1    2 pow  type Type of norm          0.000000     frozen    0.0       1.0\n",
      "   1    2 pow  elow Low flux limit (keV)  2.000000     frozen   1.00E-20  1.00E+10\n",
      "   1    2 pow  eupp Upp flux limit (keV)  10.00000     frozen   1.00E-20  1.00E+10\n",
      "   1    2 pow  lum  Luminosity (1E30 W)  9.0242578E-03 frozen    0.0      1.00E+20\n",
      "\n",
      "\n",
      "Instrument     1 region    1 has norm    1.00000E+00 and is frozen\n",
      "\n",
      "--------------------------------------------------------------------------------\n",
      " Fluxes and restframe luminosities between   2.0000     and    10.000     keV\n",
      "\n",
      " sect comp mod   photon flux   energy flux nr of photons    luminosity\n",
      "              (phot/m**2/s)      (W/m**2)   (photons/s)           (W)\n",
      "    1    2 pow    30.4085      2.068690E-14  1.335087E+43  9.024161E+27\n",
      "\n",
      "--------------------------------------------------------------------------------\n",
      " Fit method        : Classical Levenberg-Marquardt\n",
      " Fit statistic     : C-statistic\n",
      " Fit statistic used:       122.42\n",
      " C-statistic       :       122.42\n",
      " Expected C-stat   :       114.06 +/-        15.11\n",
      " Chi-squared value :       123.23\n",
      " Degrees of freedom:       111\n",
      " W-statistic       :       121.64\n",
      "\n"
     ]
    }
   ],
   "source": [
    "s.fit()"
   ]
  },
  {
   "cell_type": "code",
   "execution_count": 9,
   "id": "c2c500b1-8ae7-4cd3-b370-1fbe6dfc77ea",
   "metadata": {},
   "outputs": [
    {
     "data": {
      "image/png": "[encoded data removed]",
      "text/plain": [
       "<Figure size 432x288 with 1 Axes>"
      ]
     },
     "metadata": {
      "needs_background": "light"
     },
     "output_type": "display_data"
    },
    {
     "data": {
      "text/plain": [
       "<pyspex.plot.PlotData at 0x1475cc656310>"
      ]
     },
     "execution_count": 9,
     "metadata": {},
     "output_type": "execute_result"
    }
   ],
   "source": [
    "s.plot_data(xlog=True,ylog=True)"
   ]
  },
  {
   "cell_type": "markdown",
   "id": "ebe988dd-183c-4f73-8bf3-375694404802",
   "metadata": {},
   "source": [
    "## Calculating errors\n",
    "\n",
    "The fit looks great! Let's calculate the errors on the Galactic column density ('nh'), the normalization of the power law ('norm') and the slope of the power law ('gamm'):"
   ]
  },
  {
   "cell_type": "code",
   "execution_count": 11,
   "id": "c91200db-0d02-47d5-a327-295471574dbd",
   "metadata": {},
   "outputs": [
    {
     "name": "stdout",
     "output_type": "stream",
     "text": [
      " Parameter        Statistics       Delta          Delta\n",
      "   value            value        parameter      statistics\n",
      "----------------------------------------------------------\n",
      "  1.400771E-03      123.42     -1.691852E-05    1.00\n",
      "  1.434608E-03      123.42      1.691852E-05    1.00\n",
      " Parameter   1    1 nh  :   1.41769E-03 Errors:  -1.69185E-05 ,   1.69185E-05\n",
      " Parameter        Statistics       Delta          Delta\n",
      "   value            value        parameter      statistics\n",
      "----------------------------------------------------------\n",
      "  0.246443          123.43     -1.609012E-03    1.01\n",
      "  0.246453          123.41     -1.598954E-03    0.99\n",
      "  0.249661          123.41      1.609012E-03    0.99\n",
      "  0.251270          126.36      3.218010E-03    3.94\n",
      "  0.249661          123.41      1.609012E-03    0.99\n",
      "  0.249677          123.43      1.625121E-03    1.01\n",
      " Parameter   1    2 norm:   0.24805     Errors:  -1.59895E-03 ,   1.62512E-03\n",
      " Parameter        Statistics       Delta          Delta\n",
      "   value            value        parameter      statistics\n",
      "----------------------------------------------------------\n",
      "   1.76755          123.42     -6.346226E-03    1.00\n",
      "   1.78024          123.42      6.346226E-03    1.00\n",
      " Parameter   1    2 gamm:    1.7739     Errors:  -6.34623E-03 ,   6.34623E-03\n"
     ]
    }
   ],
   "source": [
    "err_nh = s.error(1,1,'nh')\n",
    "err_norm = s.error(1,2,'norm')\n",
    "err_gamm = s.error(1,2,'gamm')"
   ]
  },
  {
   "cell_type": "code",
   "execution_count": 15,
   "id": "a1925b12-d008-42b6-9c2a-77f905b4f4b8",
   "metadata": {},
   "outputs": [
    {
     "name": "stdout",
     "output_type": "stream",
     "text": [
      "0.24805177748203278 -0.001598954200744629 0.0016251206398010254\n"
     ]
    }
   ],
   "source": [
    "print(err_norm.value, err_norm.lerr, err_norm.uerr)"
   ]
  }
 ],
 "metadata": {
  "kernelspec": {
   "display_name": "Python 3 (ipykernel)",
   "language": "python",
   "name": "python3"
  },
  "language_info": {
   "codemirror_mode": {
    "name": "ipython",
    "version": 3
   },
   "file_extension": ".py",
   "mimetype": "text/x-python",
   "name": "python",
   "nbconvert_exporter": "python",
   "pygments_lexer": "ipython3",
   "version": "3.9.12"
  }
 },
 "nbformat": 4,
 "nbformat_minor": 5
}
