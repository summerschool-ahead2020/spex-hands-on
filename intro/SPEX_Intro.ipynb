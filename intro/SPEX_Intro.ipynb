{
 "cells": [
  {
   "cell_type": "markdown",
   "id": "b5de9a48-8a3b-4f4e-8ea8-131d31e6f222",
   "metadata": {},
   "source": [
    "# SPEX in a Jupyter notebook"
   ]
  },
  {
   "cell_type": "markdown",
   "id": "5910ac56-56a5-40eb-923e-3ed7962095e9",
   "metadata": {},
   "source": [
    "When the SPEX package is installed and loaded in the environment successfully,\n",
    "it should be available in Python and Jupyter. In a Python or Jupyter session,\n",
    "SPEX can be started like this:"
   ]
  },
  {
   "cell_type": "code",
   "execution_count": 1,
   "id": "a0d0defa-3707-448c-a546-ecdd963d2f2c",
   "metadata": {},
   "outputs": [
    {
     "name": "stdout",
     "output_type": "stream",
     "text": [
      " Welcome jellep to SPEX version 3.07.03\n",
      " \n",
      " NEW in this version of SPEX: \n",
      "01-12-2022 Fixed issue with plot cap command\n",
      "05-12-2022 Fixed issue with knak model\n",
      "22-03-2023 Fixed issue with treatment of bad quality bins in trafo\n",
      "23-03-2023 Fixed small issues in the pyspex interface\n",
      " \n",
      " Currently using SPEXACT version 2.07.00. Type `help var calc` for details.\n"
     ]
    }
   ],
   "source": [
    "from pyspex.spex import Session\n",
    "s=Session()"
   ]
  },
  {
   "cell_type": "markdown",
   "id": "a2a3852c-5e1e-466e-a804-6a63d6724976",
   "metadata": {},
   "source": [
    "## Loading data\n",
    "\n",
    "The object `s` now contains the SPEX program. Through `s` we can send commands\n",
    "to SPEX and sometimes get data in return. The commands are very similar to the\n",
    "commands used on the SPEX command line.\n",
    "\n",
    "As a first step, we can load the data files. This is done using the \n",
    "[s.data()](https://spex-xray.github.io/spex-help/pyspex/com_data.html#data) command.\n",
    "The command first expects the response file (with the `.res` extension) and\n",
    "then the spectrum file (`.spo` extension). If you have a file called ``powerl.spo``\n",
    "and ``powerl.res`` then you type:"
   ]
  },
  {
   "cell_type": "code",
   "execution_count": 2,
   "id": "1794f47f-4b0b-4805-8275-a782428ece3e",
   "metadata": {},
   "outputs": [
    {
     "data": {
      "text/plain": [
       "0"
      ]
     },
     "execution_count": 2,
     "metadata": {},
     "output_type": "execute_result"
    }
   ],
   "source": [
    "s.data(\"powerl.res\",\"powerl.spo\")"
   ]
  },
  {
   "cell_type": "markdown",
   "id": "d4b7dd3c-843f-4c76-b05b-8ba124c540a3",
   "metadata": {},
   "source": [
    "## Plotting the data\n",
    "\n",
    "If the [s.data()](https://spex-xray.github.io/spex-help/pyspex/com_data.html#data)\n",
    "command was successful, we can now have a look at the\n",
    "spectra. Using default settings, the easiest way of plotting a spectrum is\n",
    "as follows:"
   ]
  },
  {
   "cell_type": "code",
   "execution_count": 3,
   "id": "805de206-36dd-4b57-ab4f-d5e5f84d538c",
   "metadata": {},
   "outputs": [
    {
     "data": {
      "image/png": "[encoded data removed]",
      "text/plain": [
       "<Figure size 432x288 with 1 Axes>"
      ]
     },
     "metadata": {
      "needs_background": "light"
     },
     "output_type": "display_data"
    },
    {
     "data": {
      "text/plain": [
       "<pyspex.plot.PlotData at 0x14b38c37edf0>"
      ]
     },
     "execution_count": 3,
     "metadata": {},
     "output_type": "execute_result"
    }
   ],
   "source": [
    "s.plot_data()"
   ]
  },
  {
   "cell_type": "code",
   "execution_count": 4,
   "id": "9382335e-a372-4f1a-918e-3fee332971f2",
   "metadata": {},
   "outputs": [
    {
     "data": {
      "image/png": "[encoded data removed]",
      "text/plain": [
       "<Figure size 432x288 with 1 Axes>"
      ]
     },
     "metadata": {
      "needs_background": "light"
     },
     "output_type": "display_data"
    },
    {
     "data": {
      "text/plain": [
       "<pyspex.plot.PlotData at 0x14b340bd35e0>"
      ]
     },
     "execution_count": 4,
     "metadata": {},
     "output_type": "execute_result"
    }
   ],
   "source": [
    "s.plot_data(xlog=True, ylog=True, wave=True)"
   ]
  },
  {
   "cell_type": "markdown",
   "id": "c38fb3ea-97da-469f-8ca4-8c0a99546fc0",
   "metadata": {},
   "source": [
    "To make sure the axes are logarithmic, we provide the options (``xlog=True`` and\n",
    "``ylog=True``) and change the axes to unit Å using ``wave=True``.\n",
    "\n",
    "If you want to change more features of the plot, you can get the\n",
    "matplotlib ``plt`` object from the command like this:"
   ]
  },
  {
   "cell_type": "code",
   "execution_count": 5,
   "id": "2806cbe7-b283-4b85-90bd-d8964385a66b",
   "metadata": {},
   "outputs": [
    {
     "data": {
      "image/png": "[encoded data removed]",
      "text/plain": [
       "<Figure size 432x288 with 1 Axes>"
      ]
     },
     "metadata": {
      "needs_background": "light"
     },
     "output_type": "display_data"
    }
   ],
   "source": [
    "(pdata, plt) = s.plot_data(xlog=True,ylog=True,show=False)\n",
    "plt.xlim(0.3,10.0)\n",
    "plt.ylim(0.01,10.)\n",
    "plt.show()"
   ]
  },
  {
   "cell_type": "markdown",
   "id": "8ad8690b-d267-4113-a11a-de55d8591088",
   "metadata": {},
   "source": [
    "## Ignoring and rebinning\n",
    "\n",
    "High-resolution X-ray spectra from Chandra and XMM-Newton are usually\n",
    "oversampled (e.g. the energy bins are much smaller than the spectral\n",
    "resolution) and contain a lot more channels then is useful. Therefore,\n",
    "it is necessary to remove wavelength intervals which contain bad data\n",
    "and rebin your spectrum. The SPEX command to ignore parts of the spectrum\n",
    "is called [s.ignore()](https://spex-xray.github.io/spex-help/pyspex/com_data.html#data-selection)\n",
    "and the command to rebin is called [s.bin()](https://spex-xray.github.io/spex-help/pyspex/com_data.html#binning-and-data-selection).\n",
    "In the next example we bin the spectrum over the 0.5 to 10 keV range with\n",
    "a factor of 5 and ignore the rest of the spectrum:"
   ]
  },
  {
   "cell_type": "code",
   "execution_count": 6,
   "id": "e51b68d2-6742-4fde-85c0-305c8f67120a",
   "metadata": {},
   "outputs": [],
   "source": [
    "s.ignore(1, 1, 0.0, 0.5, unit='kev')\n",
    "s.ignore(1, 1, 10.0, 1000., unit='kev')\n",
    "s.bin(1, 1, 0.5, 10.0, 5, unit='kev')"
   ]
  },
  {
   "cell_type": "markdown",
   "id": "643fa6ab-d9cf-4b85-a82c-58615089f0f1",
   "metadata": {},
   "source": [
    "The [s.ignore()](https://spex-xray.github.io/spex-help/pyspex/com_data.html#data-selection)\n",
    "and [s.bin(](https://spex-xray.github.io/spex-help/pyspex/com_data.html#binning-and-data-selection)\n",
    "commands need to know which spectrum in the\n",
    "data structure you want to change. If you just loaded one spectrum, this is\n",
    "easy. SPEX organizes spectra in instruments and regions. The first spectrum\n",
    "is by default in instrument 1 and region 1. The first two places in the\n",
    "[s.ignore()](https://spex-xray.github.io/spex-help/pyspex/com_data.html#data-selection)\n",
    "and [s.bin()](https://spex-xray.github.io/spex-help/pyspex/com_data.html#binning-and-data-selection)\n",
    "commands need to contain the instrument number and\n",
    "the region number of the spectrum that you want to change.\n",
    "\n",
    "The third and forth number is the energy range to apply the command to. So,\n",
    "the third number is the minimum energy and the forth the maximum.\n",
    "\n",
    "For the bin command, the binning factor is the fifth entry. Finally, we\n",
    "provide the unit of our energy values as `unit='kev'` in the last entry\n",
    "of the command.\n"
   ]
  },
  {
   "cell_type": "markdown",
   "id": "722a53e7-301b-432a-929d-82240358b4d2",
   "metadata": {},
   "source": [
    "## Defining a model\n",
    "\n",
    "Now we have a clean and rebinned spectrum that is ready to fit. Before\n",
    "we can start fitting, we first need to define a model. The model can contain\n",
    "one or more of these components:\n",
    "\n",
    "-  `absm` Model for interstellar absorption.\n",
    "\n",
    "-  `reds` Redshift.\n",
    "\n",
    "-  `po` Powerlaw.\n",
    "\n",
    "And [there are more](https://spex-xray.github.io/spex-help/models.html)\n",
    "The following command sequence defines a simple powerlaw model at a certain\n",
    "redshift and absorbed by the interstellar medium. The individual components\n",
    "of the model are loaded one-by-one with the \n",
    "[s.com()](https://spex-xray.github.io/spex-help/pyspex/com_model.html#components)\n",
    "command:"
   ]
  },
  {
   "cell_type": "code",
   "execution_count": 7,
   "id": "85adff55-5453-447a-8db3-5dab49379662",
   "metadata": {},
   "outputs": [
    {
     "name": "stdout",
     "output_type": "stream",
     "text": [
      " You have defined    1 component.\n",
      " You have defined    2 components.\n",
      " You have defined    3 components.\n"
     ]
    }
   ],
   "source": [
    "import numpy\n",
    "s.com('reds')\n",
    "s.com('absm')\n",
    "s.com('po')\n",
    "s.com_rel(1,3,numpy.array([1,2]))"
   ]
  },
  {
   "cell_type": "markdown",
   "id": "df543ef3-639d-4ea2-b16c-a77b682e81ae",
   "metadata": {},
   "source": [
    "The last command [`s.com_rel(1,3,numpy.array([1,2])`](https://spex-xray.github.io/spex-help/pyspex/com_model.html#component-relate)\n",
    "tells SPEX that component 3, the powerlaw, is first redshifted by component 1\n",
    "and then absorbed by component 2. The order of the 1 and the 2 is\n",
    "important! Always think what happens in which order on the way from\n",
    "the source to the telescope."
   ]
  },
  {
   "cell_type": "markdown",
   "id": "b24f4904-d145-474b-8945-c2bdfd2760c4",
   "metadata": {},
   "source": [
    "## Distance\n",
    "\n",
    "For most sources the distance is more or less known. To get a right\n",
    "luminosity estimate for the source, the expected distance has to be\n",
    "provided to SPEX. This is done with the \n",
    "[s.distance()](https://spex-xray.github.io/spex-help/pyspex/com_model.html#distance)\n",
    "command:\n"
   ]
  },
  {
   "cell_type": "code",
   "execution_count": 8,
   "id": "7657e326-0739-4f86-a5f1-4a5ff33c94d0",
   "metadata": {},
   "outputs": [
    {
     "name": "stdout",
     "output_type": "stream",
     "text": [
      " Distances assuming H0 =  70.0 km/s/Mpc, Omega_m = 0.300 Omega_Lambda = 0.700 Omega_r = 0.000\n",
      "Sector       m      A.U.        ly        pc       kpc       Mpc  redshift        cz   age(yr)\n",
      "----------------------------------------------------------------------------------------------\n",
      "   1 1.420E+25 9.494E+13 1.501E+09 4.603E+08 4.603E+05  460.3001    0.1000   29979.3 1.301E+09\n",
      "----------------------------------------------------------------------------------------------\n",
      "\n"
     ]
    },
    {
     "data": {
      "text/plain": [
       "<pyspex.model.Distance at 0x14b38d7dfca0>"
      ]
     },
     "execution_count": 8,
     "metadata": {},
     "output_type": "execute_result"
    }
   ],
   "source": [
    "s.dist(1, 0.1, 'z')"
   ]
  },
  {
   "cell_type": "markdown",
   "id": "937c7ece-4536-4699-868a-ebfc9e151057",
   "metadata": {},
   "source": [
    "With this command, the distance to the source is set to a redshift of\n",
    "0.1."
   ]
  },
  {
   "cell_type": "markdown",
   "id": "5cccf909-a980-4673-aa21-5ef9f4b68c91",
   "metadata": {},
   "source": [
    "## Setting initial parameters\n",
    "\n",
    "Now we have to estimate the initial parameters. With the command\n",
    "[s.par_show()](https://spex-xray.github.io/spex-help/pyspex/com_model.html#show-parameters)\n",
    "we can see which parameters there are:\n"
   ]
  },
  {
   "cell_type": "code",
   "execution_count": 9,
   "id": "57ac7374-8488-4db6-b8a2-43dd3b99ae4f",
   "metadata": {},
   "outputs": [
    {
     "name": "stdout",
     "output_type": "stream",
     "text": [
      "---------------------------------------------------------------------------------------------------\n",
      "sect comp mod  acro parameter with unit      value     status    minimum   maximum lsec lcom lpar\n",
      "\n",
      "   1    1 reds z    Redshift                 0.00000   frozen       -1.0   1.0E+10           \n",
      "   1    1 reds flag Flag: cosmo=0, vel=1     0.00000   frozen        0.0       1.0           \n",
      "\n",
      "   1    2 absm nh   Column (1E28/m**2)   0.000100000   thawn         0.0   1.0E+20           \n",
      "   1    2 absm fcov Covering fraction        1.00000   frozen        0.0       1.0           \n",
      "\n",
      "   1    3 pow  norm Norm (1E44 ph/s/keV)     1.00000   thawn         0.0   1.0E+20           \n",
      "   1    3 pow  gamm Photon index             2.00000   thawn        -10.       10.           \n",
      "   1    3 pow  dgam Photon index break       0.00000   frozen       -10.       10.           \n",
      "   1    3 pow  e0   Break energy (keV)   1.00000E+10   frozen        0.0   1.0E+20           \n",
      "   1    3 pow  b    Break strength           0.00000   frozen        0.0       10.           \n",
      "   1    3 pow  type Type of norm             0.00000   frozen        0.0       1.0           \n",
      "   1    3 pow  elow Low flux limit (keV)     2.00000   frozen    1.0E-20   1.0E+10           \n",
      "   1    3 pow  eupp Upp flux limit (keV)     10.0000   frozen    1.0E-20   1.0E+10           \n",
      "   1    3 pow  lum  Luminosity (1E30 W)      1.00000   frozen        0.0   1.0E+20           \n",
      "\n",
      "\n",
      "---------------------------------------------------------------------------------------------------\n",
      "Fluxes and restframe luminosities between     0.00000 keV and     0.00000 keV keV\n",
      "\n",
      "sect comp mod   photon flux   energy flux   nr of photons  luminosity\n",
      "                (phot/m**2/s) (W/m**2)      (photons/s)    (W)\n",
      "   1    3 pow       0.00000       0.00000       0.00000        0.00000\n",
      "\n",
      "\n",
      "Instrument    1 region    1 has norm     1.00000 and is frozen.\n",
      "\n"
     ]
    }
   ],
   "source": [
    "s.par_show()"
   ]
  },
  {
   "cell_type": "markdown",
   "id": "0f8a3a48-4b93-48c7-ba0f-950c8255f1a5",
   "metadata": {},
   "source": [
    "We can set the parameters using the [s.par()](https://spex-xray.github.io/spex-help/pyspex/com_model.html#setting-parameters)\n",
    "command. The commands then look like this:"
   ]
  },
  {
   "cell_type": "code",
   "execution_count": 10,
   "id": "0a4453fb-bc0e-4a2b-bb62-605ce6e7a4a4",
   "metadata": {},
   "outputs": [],
   "source": [
    "s.par(1, 1, 'z', 0.1)\n",
    "s.par(1, 2, 'nh', 2.E-3, thawn=False)\n",
    "s.par(1, 3, 'norm', 1.E+9, thawn=True)\n",
    "s.par(1, 3, 'gamm', 1.5, thawn=True)"
   ]
  },
  {
   "cell_type": "markdown",
   "id": "93b47178-03f8-4a31-b2f1-67c2e0ed8e70",
   "metadata": {},
   "source": [
    "When the parameter should be free during the fit, then add the optional `thawn=True` parameter\n",
    "to the command. Then, we run [s.par_show()](https://spex-xray.github.io/spex-help/pyspex/com_model.html#show-parameters)\n",
    "again to see what happened:"
   ]
  },
  {
   "cell_type": "code",
   "execution_count": 11,
   "id": "158c495d-14a7-4365-a75b-1a7c339739f7",
   "metadata": {},
   "outputs": [
    {
     "name": "stdout",
     "output_type": "stream",
     "text": [
      "---------------------------------------------------------------------------------------------------\n",
      "sect comp mod  acro parameter with unit      value     status    minimum   maximum lsec lcom lpar\n",
      "\n",
      "   1    1 reds z    Redshift                0.100000   frozen       -1.0   1.0E+10           \n",
      "   1    1 reds flag Flag: cosmo=0, vel=1     0.00000   frozen        0.0       1.0           \n",
      "\n",
      "   1    2 absm nh   Column (1E28/m**2)    0.00200000   frozen        0.0   1.0E+20           \n",
      "   1    2 absm fcov Covering fraction        1.00000   frozen        0.0       1.0           \n",
      "\n",
      "   1    3 pow  norm Norm (1E44 ph/s/keV) 1.00000E+09   thawn         0.0   1.0E+20           \n",
      "   1    3 pow  gamm Photon index             1.50000   thawn        -10.       10.           \n",
      "   1    3 pow  dgam Photon index break       0.00000   frozen       -10.       10.           \n",
      "   1    3 pow  e0   Break energy (keV)   1.00000E+10   frozen        0.0   1.0E+20           \n",
      "   1    3 pow  b    Break strength           0.00000   frozen        0.0       10.           \n",
      "   1    3 pow  type Type of norm             0.00000   frozen        0.0       1.0           \n",
      "   1    3 pow  elow Low flux limit (keV)     2.00000   frozen    1.0E-20   1.0E+10           \n",
      "   1    3 pow  eupp Upp flux limit (keV)     10.0000   frozen    1.0E-20   1.0E+10           \n",
      "   1    3 pow  lum  Luminosity (1E30 W)      1.00000   frozen        0.0   1.0E+20           \n",
      "\n",
      "\n",
      "---------------------------------------------------------------------------------------------------\n",
      "Fluxes and restframe luminosities between     0.00000 keV and     0.00000 keV keV\n",
      "\n",
      "sect comp mod   photon flux   energy flux   nr of photons  luminosity\n",
      "                (phot/m**2/s) (W/m**2)      (photons/s)    (W)\n",
      "   1    3 pow       0.00000       0.00000       0.00000        0.00000\n",
      "\n",
      "\n",
      "Instrument    1 region    1 has norm     1.00000 and is frozen.\n",
      "\n"
     ]
    }
   ],
   "source": [
    "s.par_show()"
   ]
  },
  {
   "cell_type": "markdown",
   "id": "956a6c0c-fdeb-4ff4-bd15-62fe1858c3ed",
   "metadata": {},
   "source": [
    "Finding the right initial values for the parameters is a game of trial\n",
    "and error. To see whether you are going in the right direction, you can\n",
    "calculate the model with the command [s.calc()](https://spex-xray.github.io/spex-help/pyspex/com_model.html#calculate)\n",
    "see the result with [s.plot_data()](https://spex-xray.github.io/spex-help/pyspex/com_plot.html#plot-data)\n",
    "If you see the model appear in your screen, then the model\n",
    "is close enough to be fitted. Especially the normalization of the powerlaw\n",
    "(`norm`) can vary a lot depending on the count rate of the source."
   ]
  },
  {
   "cell_type": "code",
   "execution_count": 12,
   "id": "f754e67f-9220-41f1-be9e-ea9ef55bc0f0",
   "metadata": {},
   "outputs": [
    {
     "data": {
      "image/png": "[encoded data removed]",
      "text/plain": [
       "<Figure size 432x288 with 1 Axes>"
      ]
     },
     "metadata": {
      "needs_background": "light"
     },
     "output_type": "display_data"
    },
    {
     "data": {
      "text/plain": [
       "<pyspex.plot.PlotData at 0x14b340977490>"
      ]
     },
     "execution_count": 12,
     "metadata": {},
     "output_type": "execute_result"
    }
   ],
   "source": [
    "s.calc()\n",
    "s.plot_data(xlog=True,ylog=True)"
   ]
  },
  {
   "cell_type": "markdown",
   "id": "f21d700b-c14c-4510-b848-9cb9ddb5ca84",
   "metadata": {},
   "source": [
    "## Fitting the data\n",
    "\n",
    "We are ready to fit the data! You can give the [s.fit()](https://spex-xray.github.io/spex-help/pyspex/com_opt.html#fit)\n",
    "command to start fitting. When the fit is done, then the parameters and C-stat are\n",
    "printed on screen. If the C-stat value is\n",
    "close to the expected C-stat value, then your fit is acceptable.\n",
    "Sometimes more runs of the command [s.fit()](https://spex-xray.github.io/spex-help/pyspex/com_opt.html#fit) are\n",
    "necessary after changing some initial parameters. This is especially true\n",
    "when using complex models. Again this is a game of trial and error.\n",
    "\n"
   ]
  },
  {
   "cell_type": "code",
   "execution_count": 13,
   "id": "4fa6f83b-5707-43ea-ba13-6d33133be8f2",
   "metadata": {},
   "outputs": [
    {
     "name": "stdout",
     "output_type": "stream",
     "text": [
      " fit iter  100                                                   \n",
      "   5094.14              3  1.000E+09   1.50\n",
      " You cannot plot this frame since nothing is defined\n",
      " \u0007\n",
      "   552.978              6  7.326E+08   1.41\n",
      " You cannot plot this frame since nothing is defined\n",
      " \u0007\n",
      "   432.439              9  7.554E+08   1.40\n",
      " You cannot plot this frame since nothing is defined\n",
      " \u0007\n",
      "   432.434             12  7.557E+08   1.40\n",
      " You cannot plot this frame since nothing is defined\n",
      " \u0007\n",
      "--------------------------------------------------------------------------------------------------\n",
      "sect comp mod  acro parameter with unit     value      status    minimum   maximum lsec lcom lpar\n",
      "\n",
      "   1    1 reds z    Redshift             0.1000000     frozen   -1.0      1.00E+10\n",
      "   1    1 reds flag Flag: cosmo=0, vel=1  0.000000     frozen    0.0       1.0\n",
      "\n",
      "   1    2 absm nh   Column (1E28/m**2)   2.0000001E-03 frozen    0.0      1.00E+20\n",
      "   1    2 absm fcov Covering fraction     1.000000     frozen    0.0       1.0\n",
      "\n",
      "   1    3 pow  norm Norm (1E44 ph/s/keV) 7.5567053E+08 thawn     0.0      1.00E+20\n",
      "   1    3 pow  gamm Photon index          1.404479     thawn    -10.       10.\n",
      "   1    3 pow  dgam Photon index break    0.000000     frozen   -10.       10.\n",
      "   1    3 pow  e0   Break energy (keV)   1.0000000E+10 frozen    0.0      1.00E+20\n",
      "   1    3 pow  b    Break strength        0.000000     frozen    0.0       10.\n",
      "   1    3 pow  type Type of norm          0.000000     frozen    0.0       1.0\n",
      "   1    3 pow  elow Low flux limit (keV)  2.000000     frozen   1.00E-20  1.00E+10\n",
      "   1    3 pow  eupp Upp flux limit (keV)  10.00000     frozen   1.00E-20  1.00E+10\n",
      "   1    3 pow  lum  Luminosity (1E30 W)  4.9387316E+07 frozen    0.0      1.00E+20\n",
      "\n",
      "\n",
      "Instrument     1 region    1 has norm    1.00000E+00 and is frozen\n",
      "\n",
      "--------------------------------------------------------------------------------\n",
      " Fluxes and restframe luminosities between   2.0000     and    10.000     keV\n",
      "\n",
      " sect comp mod   photon flux   energy flux nr of photons    luminosity\n",
      "              (phot/m**2/s)      (W/m**2)   (photons/s)           (W)\n",
      "    1    3 pow    27.5443      2.031372E-14  6.753499E+52  4.938680E+37\n",
      "\n",
      "--------------------------------------------------------------------------------\n",
      " Fit method        : Classical Levenberg-Marquardt\n",
      " Fit statistic     : C-statistic\n",
      " Fit statistic used:       432.43\n",
      " C-statistic       :       432.43\n",
      " Expected C-stat   :       382.00 +/-        27.68\n",
      " Chi-squared value :       444.41\n",
      " Degrees of freedom:       379\n",
      " W-statistic       :       429.02\n",
      "\n"
     ]
    },
    {
     "data": {
      "image/png": "[encoded data removed]",
      "text/plain": [
       "<Figure size 432x288 with 1 Axes>"
      ]
     },
     "metadata": {
      "needs_background": "light"
     },
     "output_type": "display_data"
    },
    {
     "data": {
      "text/plain": [
       "<pyspex.plot.PlotData at 0x14b431970790>"
      ]
     },
     "execution_count": 13,
     "metadata": {},
     "output_type": "execute_result"
    }
   ],
   "source": [
    "s.fit()\n",
    "s.plot_data(xlog=True,ylog=True)"
   ]
  },
  {
   "cell_type": "markdown",
   "id": "2af692cf-d091-4b1c-82d5-224cc4ab4875",
   "metadata": {},
   "source": [
    "You also might want to fix or free certain parameters to see if they can\n",
    "be constrained. You can fix a parameter with the command [s.par_fix()](https://spex-xray.github.io/spex-help/pyspex/com_model.html#fix-free-parameters) \n",
    "and freeing is done with [s.par_free()](https://spex-xray.github.io/spex-help/pyspex/com_model.html#fix-free-parameters)\n",
    "(also called thawn). You can free the redshift and fix the N<sub>H</sub> by\n",
    "the following commands:\n"
   ]
  },
  {
   "cell_type": "code",
   "execution_count": 14,
   "id": "0afbeed2-c542-4c31-9ada-7697bcad0b3f",
   "metadata": {},
   "outputs": [
    {
     "name": "stdout",
     "output_type": "stream",
     "text": [
      " fit iter  100                                                   \n",
      "   432.434              4  2.000E-03  7.557E+08   1.40\n",
      " You cannot plot this frame since nothing is defined\n",
      " \u0007\n",
      "   431.817              8  1.973E-03  7.503E+08   1.40\n",
      " You cannot plot this frame since nothing is defined\n",
      " \u0007\n",
      "   431.817             12  1.973E-03  7.503E+08   1.40\n",
      " You cannot plot this frame since nothing is defined\n",
      " \u0007\n",
      "--------------------------------------------------------------------------------------------------\n",
      "sect comp mod  acro parameter with unit     value      status    minimum   maximum lsec lcom lpar\n",
      "\n",
      "   1    1 reds z    Redshift             0.1000000     frozen   -1.0      1.00E+10\n",
      "   1    1 reds flag Flag: cosmo=0, vel=1  0.000000     frozen    0.0       1.0\n",
      "\n",
      "   1    2 absm nh   Column (1E28/m**2)   1.9729910E-03 thawn     0.0      1.00E+20\n",
      "   1    2 absm fcov Covering fraction     1.000000     frozen    0.0       1.0\n",
      "\n",
      "   1    3 pow  norm Norm (1E44 ph/s/keV) 7.5028909E+08 thawn     0.0      1.00E+20\n",
      "   1    3 pow  gamm Photon index          1.399532     thawn    -10.       10.\n",
      "   1    3 pow  dgam Photon index break    0.000000     frozen   -10.       10.\n",
      "   1    3 pow  e0   Break energy (keV)   1.0000000E+10 frozen    0.0      1.00E+20\n",
      "   1    3 pow  b    Break strength        0.000000     frozen    0.0       10.\n",
      "   1    3 pow  type Type of norm          0.000000     frozen    0.0       1.0\n",
      "   1    3 pow  elow Low flux limit (keV)  2.000000     frozen   1.00E-20  1.00E+10\n",
      "   1    3 pow  eupp Upp flux limit (keV)  10.00000     frozen   1.00E-20  1.00E+10\n",
      "   1    3 pow  lum  Luminosity (1E30 W)  4.9431332E+07 frozen    0.0      1.00E+20\n",
      "\n",
      "\n",
      "Instrument     1 region    1 has norm    1.00000E+00 and is frozen\n",
      "\n",
      "--------------------------------------------------------------------------------\n",
      " Fluxes and restframe luminosities between   2.0000     and    10.000     keV\n",
      "\n",
      " sect comp mod   photon flux   energy flux nr of photons    luminosity\n",
      "              (phot/m**2/s)      (W/m**2)   (photons/s)           (W)\n",
      "    1    3 pow    27.5627      2.034619E-14  6.752390E+52  4.943082E+37\n",
      "\n",
      "--------------------------------------------------------------------------------\n",
      " Fit method        : Classical Levenberg-Marquardt\n",
      " Fit statistic     : C-statistic\n",
      " Fit statistic used:       431.82\n",
      " C-statistic       :       431.82\n",
      " Expected C-stat   :       381.99 +/-        27.68\n",
      " Chi-squared value :       445.28\n",
      " Degrees of freedom:       378\n",
      " W-statistic       :       428.44\n",
      "\n"
     ]
    },
    {
     "data": {
      "image/png": "[encoded data removed]",
      "text/plain": [
       "<Figure size 432x288 with 1 Axes>"
      ]
     },
     "metadata": {
      "needs_background": "light"
     },
     "output_type": "display_data"
    },
    {
     "data": {
      "text/plain": [
       "<pyspex.plot.PlotData at 0x14b34037ba60>"
      ]
     },
     "execution_count": 14,
     "metadata": {},
     "output_type": "execute_result"
    }
   ],
   "source": [
    "s.par_free(1,2,'nh')\n",
    "s.fit()\n",
    "s.plot_data(xlog=True,ylog=True)"
   ]
  },
  {
   "cell_type": "markdown",
   "id": "6c3c45c5-a5b7-4a61-a610-30d283e22d4b",
   "metadata": {},
   "source": [
    "## Calculating errors\n",
    "\n",
    "When the fit is acceptable, you might want to know the uncertainties on\n",
    "your fitted parameters. Errors are determined one-by-one by fixing the\n",
    "parameter to some value and calculate the ΔC-stat with\n",
    "respect to the best fit. If you want to know the 1σ error\n",
    "on the parameter, you need to know its values at ΔC-stat = 1. \n",
    "This is done by the [s.error()](https://spex-xray.github.io/spex-help/pyspex/com_opt.html#error) \n",
    "command. You can calculate the error for each parameter. For example the powerlaw slope:"
   ]
  },
  {
   "cell_type": "code",
   "execution_count": 15,
   "id": "5a0d96ee-ffda-4e2e-bfd5-c2db502447e2",
   "metadata": {},
   "outputs": [
    {
     "name": "stdout",
     "output_type": "stream",
     "text": [
      "1.399532437324524 -0.007902383804321289 0.007928133010864258\n",
      " Parameter        Statistics       Delta          Delta\n",
      "   value            value        parameter      statistics\n",
      "----------------------------------------------------------\n",
      "   1.39637          431.98     -3.162861E-03    0.16\n",
      "   1.39163          432.82     -7.902384E-03    1.00\n",
      "   1.40270          431.98      3.162861E-03    0.16\n",
      "   1.40746          432.82      7.928133E-03    1.00\n",
      " Parameter   1    3 gamm:    1.3995     Errors:  -7.90238E-03 ,   7.92813E-03\n"
     ]
    }
   ],
   "source": [
    "gamm_err = s.error(1,3,'gamm')\n",
    "print(gamm_err.value,gamm_err.lerr,gamm_err.uerr)"
   ]
  },
  {
   "cell_type": "code",
   "execution_count": null,
   "id": "8a52c4b5-af3b-4617-85f4-cc9345b58c77",
   "metadata": {},
   "outputs": [],
   "source": []
  }
 ],
 "metadata": {
  "kernelspec": {
   "display_name": "Python 3 (ipykernel)",
   "language": "python",
   "name": "python3"
  },
  "language_info": {
   "codemirror_mode": {
    "name": "ipython",
    "version": 3
   },
   "file_extension": ".py",
   "mimetype": "text/x-python",
   "name": "python",
   "nbconvert_exporter": "python",
   "pygments_lexer": "ipython3",
   "version": "3.9.12"
  }
 },
 "nbformat": 4,
 "nbformat_minor": 5
}
